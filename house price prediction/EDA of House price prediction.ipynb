{
  "cells": [
    {
      "cell_type": "code",
      "execution_count": null,
      "metadata": {
        "id": "PaHuLxtFNZsK"
      },
      "outputs": [],
      "source": [
        "#importing libraries\n",
        "import numpy as np\n",
        "import matplotlib.pyplot as plt\n",
        "import pandas as pd"
      ]
    },
    {
      "cell_type": "code",
      "execution_count": null,
      "metadata": {
        "colab": {
          "base_uri": "https://localhost:8080/",
          "height": 74,
          "resources": {
            "http://localhost:8080/nbextensions/google.colab/files.js": {
              "data": "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",
              "headers": [
                [
                  "content-type",
                  "application/javascript"
                ]
              ],
              "ok": true,
              "status": 200,
              "status_text": ""
            }
          }
        },
        "id": "vqFjSYaFLsJG",
        "outputId": "df2b4cb0-ef6b-4a63-de5b-cf1b62a78765"
      },
      "outputs": [
        {
          "data": {
            "text/html": [
              "\n",
              "     <input type=\"file\" id=\"files-b1b773a4-68fc-4e50-bb1f-a6a3b620069d\" name=\"files[]\" multiple disabled\n",
              "        style=\"border:none\" />\n",
              "     <output id=\"result-b1b773a4-68fc-4e50-bb1f-a6a3b620069d\">\n",
              "      Upload widget is only available when the cell has been executed in the\n",
              "      current browser session. Please rerun this cell to enable.\n",
              "      </output>\n",
              "      <script src=\"/nbextensions/google.colab/files.js\"></script> "
            ],
            "text/plain": [
              "<IPython.core.display.HTML object>"
            ]
          },
          "metadata": {},
          "output_type": "display_data"
        },
        {
          "name": "stdout",
          "output_type": "stream",
          "text": [
            "Saving house-prices.csv to house-prices.csv\n"
          ]
        }
      ],
      "source": [
        "# Load  data from Local drive\n",
        "from google.colab import files\n",
        "uploaded = files.upload()"
      ]
    },
    {
      "cell_type": "code",
      "execution_count": null,
      "metadata": {
        "colab": {
          "base_uri": "https://localhost:8080/"
        },
        "id": "RT5xTJchNjTp",
        "outputId": "b4650a3d-6b34-4a20-ca0b-ef4cadfccb83"
      },
      "outputs": [
        {
          "name": "stdout",
          "output_type": "stream",
          "text": [
            "     Home     Price    SqFt  Bedrooms  Bathrooms  Offers Brick Neighborhood\n",
            "0       1  114300.0  1790.0         2          2       2    No         East\n",
            "1       2  114200.0  2030.0         4          2       3    No         East\n",
            "2       3  114800.0  1740.0         3          2       1    No         East\n",
            "3       4   94700.0  1980.0         3          2       3    No         East\n",
            "4       5  119800.0  2130.0         3          3       3    No         East\n",
            "..    ...       ...     ...       ...        ...     ...   ...          ...\n",
            "123   124       NaN  1900.0         3          3       3   Yes         East\n",
            "124   125  147900.0  2160.0         4          3       3   Yes         East\n",
            "125   126  113500.0  2070.0         2          2       2    No        North\n",
            "126   127  149900.0  2020.0         3          3       1    No         West\n",
            "127   128  124600.0  2250.0         3          3       4    No        North\n",
            "\n",
            "[128 rows x 8 columns]\n"
          ]
        }
      ],
      "source": [
        "dataset = pd.read_csv('house-prices.csv')\n",
        "print(dataset)\n"
      ]
    },
    {
      "cell_type": "code",
      "execution_count": null,
      "metadata": {
        "colab": {
          "base_uri": "https://localhost:8080/"
        },
        "id": "ZlQlOgsLNv5a",
        "outputId": "32bc1d19-bfc2-4cba-bef5-279f261cc25f"
      },
      "outputs": [
        {
          "name": "stdout",
          "output_type": "stream",
          "text": [
            "Mounted at /content/drive\n"
          ]
        }
      ],
      "source": [
        "from google.colab import drive\n",
        "drive.mount('/content/drive')"
      ]
    },
    {
      "cell_type": "code",
      "execution_count": null,
      "metadata": {
        "id": "gxoTAedenqHo"
      },
      "outputs": [],
      "source": [
        "dataset ['Price'] = dataset['Price'].fillna(dataset['Price'].median())\n",
        "dataset ['SqFt'] = dataset['SqFt'].fillna(dataset['SqFt'].median())"
      ]
    },
    {
      "cell_type": "code",
      "execution_count": null,
      "metadata": {
        "colab": {
          "base_uri": "https://localhost:8080/"
        },
        "id": "NtqBSKGgOld9",
        "outputId": "95b92f21-9250-4272-8ca5-7a178f625f81"
      },
      "outputs": [
        {
          "name": "stdout",
          "output_type": "stream",
          "text": [
            "[[1790.0 2 2 2 'No' 'East']\n",
            " [2030.0 4 2 3 'No' 'East']\n",
            " [1740.0 3 2 1 'No' 'East']\n",
            " [1980.0 3 2 3 'No' 'East']\n",
            " [2130.0 3 3 3 'No' 'East']\n",
            " [1780.0 3 2 2 'No' 'North']\n",
            " [1830.0 3 3 3 'Yes' 'West']\n",
            " [2160.0 4 2 2 'No' 'West']\n",
            " [2110.0 4 2 3 'No' 'East']\n",
            " [1730.0 3 3 3 'No' 'East']\n",
            " [2030.0 3 2 3 'Yes' 'East']\n",
            " [1870.0 2 2 2 'Yes' 'East']\n",
            " [1910.0 3 2 4 'No' 'North']\n",
            " [2150.0 3 3 5 'Yes' 'North']\n",
            " [2590.0 4 3 4 'No' 'West']\n",
            " [1780.0 4 2 1 'No' 'West']\n",
            " [2190.0 3 3 4 'Yes' 'East']\n",
            " [2000.0 3 3 4 'No' 'North']\n",
            " [1700.0 2 2 1 'Yes' 'East']\n",
            " [1920.0 3 3 2 'Yes' 'West']\n",
            " [1790.0 3 2 3 'No' 'East']\n",
            " [2000.0 3 2 4 'No' 'North']\n",
            " [1690.0 3 2 3 'No' 'North']\n",
            " [1820.0 3 2 3 'Yes' 'North']\n",
            " [2210.0 4 3 2 'Yes' 'East']\n",
            " [2290.0 4 3 3 'No' 'North']\n",
            " [2000.0 4 2 3 'No' 'West']\n",
            " [1700.0 3 2 2 'No' 'East']\n",
            " [1600.0 2 2 3 'No' 'North']\n",
            " [2000.0 4 3 1 'Yes' 'West']\n",
            " [2250.0 4 3 3 'Yes' 'West']\n",
            " [1930.0 2 2 2 'Yes' 'North']\n",
            " [2250.0 3 3 3 'Yes' 'East']\n",
            " [2280.0 5 3 4 'Yes' 'East']\n",
            " [2000.0 2 2 3 'No' 'North']\n",
            " [2080.0 3 3 3 'No' 'North']\n",
            " [1880.0 2 2 2 'No' 'North']\n",
            " [2420.0 4 3 4 'No' 'West']\n",
            " [1720.0 3 2 1 'No' 'West']\n",
            " [1740.0 3 2 2 'No' 'North']\n",
            " [2000.0 2 2 1 'No' 'East']\n",
            " [1840.0 4 3 2 'No' 'West']\n",
            " [1990.0 2 2 3 'No' 'East']\n",
            " [1920.0 3 2 1 'Yes' 'East']\n",
            " [1940.0 3 3 2 'Yes' 'West']\n",
            " [1810.0 3 2 3 'No' 'East']\n",
            " [2000.0 2 3 2 'No' 'North']\n",
            " [2050.0 3 2 6 'No' 'North']\n",
            " [1980.0 2 2 2 'No' 'East']\n",
            " [1700.0 3 2 3 'Yes' 'North']\n",
            " [2100.0 3 2 3 'Yes' 'East']\n",
            " [1860.0 2 2 3 'No' 'North']\n",
            " [2150.0 2 3 4 'No' 'North']\n",
            " [2000.0 3 2 3 'No' 'North']\n",
            " [1650.0 3 2 3 'No' 'North']\n",
            " [1720.0 2 2 2 'Yes' 'East']\n",
            " [2190.0 3 2 3 'Yes' 'East']\n",
            " [2240.0 4 3 3 'No' 'West']\n",
            " [2000.0 3 3 1 'No' 'West']\n",
            " [2090.0 4 2 1 'No' 'West']\n",
            " [2200.0 3 3 1 'No' 'West']\n",
            " [1610.0 2 2 2 'No' 'North']\n",
            " [2220.0 4 3 2 'No' 'West']\n",
            " [1910.0 2 3 2 'No' 'East']\n",
            " [1860.0 3 2 2 'No' 'West']\n",
            " [1450.0 2 2 1 'Yes' 'North']\n",
            " [2210.0 3 3 4 'No' 'North']\n",
            " [2040.0 4 3 3 'No' 'East']\n",
            " [2140.0 3 2 4 'No' 'North']\n",
            " [2080.0 4 3 3 'No' 'West']\n",
            " [1950.0 3 3 3 'Yes' 'West']\n",
            " [2160.0 4 2 1 'No' 'West']\n",
            " [1650.0 3 2 3 'No' 'North']\n",
            " [2040.0 3 3 2 'No' 'East']\n",
            " [2140.0 3 3 3 'No' 'West']\n",
            " [1900.0 2 2 2 'No' 'North']\n",
            " [1930.0 3 2 2 'No' 'West']\n",
            " [2000.0 4 3 3 'Yes' 'West']\n",
            " [2130.0 3 2 3 'No' 'North']\n",
            " [1780.0 4 2 1 'No' 'West']\n",
            " [2190.0 3 3 4 'Yes' 'East']\n",
            " [2140.0 4 3 2 'Yes' 'West']\n",
            " [2050.0 2 2 1 'Yes' 'West']\n",
            " [2410.0 3 3 2 'No' 'East']\n",
            " [1520.0 2 2 3 'No' 'North']\n",
            " [2250.0 4 3 2 'Yes' 'West']\n",
            " [1900.0 4 2 4 'No' 'North']\n",
            " [1880.0 3 3 1 'Yes' 'West']\n",
            " [1930.0 3 3 2 'No' 'North']\n",
            " [2000.0 2 2 4 'No' 'North']\n",
            " [1920.0 4 2 2 'No' 'West']\n",
            " [2150.0 3 2 2 'No' 'East']\n",
            " [2110.0 3 2 2 'No' 'West']\n",
            " [2080.0 3 3 2 'No' 'East']\n",
            " [2150.0 4 3 3 'Yes' 'West']\n",
            " [1970.0 2 2 1 'Yes' 'West']\n",
            " [2440.0 3 3 3 'No' 'East']\n",
            " [2000.0 2 2 1 'Yes' 'East']\n",
            " [2000.0 3 2 1 'No' 'West']\n",
            " [2080.0 3 3 2 'Yes' 'West']\n",
            " [2010.0 3 2 5 'No' 'North']\n",
            " [2260.0 3 3 5 'No' 'East']\n",
            " [2410.0 3 3 4 'No' 'East']\n",
            " [2440.0 4 3 3 'Yes' 'West']\n",
            " [1910.0 3 2 4 'No' 'East']\n",
            " [2530.0 4 3 4 'No' 'West']\n",
            " [2130.0 3 2 4 'No' 'North']\n",
            " [1890.0 3 2 1 'Yes' 'East']\n",
            " [2000.0 3 3 3 'Yes' 'East']\n",
            " [2110.0 3 2 3 'No' 'East']\n",
            " [1710.0 2 2 1 'No' 'North']\n",
            " [1740.0 2 2 2 'No' 'North']\n",
            " [1940.0 2 2 2 'Yes' 'East']\n",
            " [2000.0 3 2 3 'Yes' 'North']\n",
            " [2010.0 4 3 2 'No' 'East']\n",
            " [1900.0 3 3 3 'No' 'North']\n",
            " [2290.0 5 4 1 'Yes' 'West']\n",
            " [1920.0 3 2 2 'No' 'North']\n",
            " [1950.0 3 2 3 'Yes' 'North']\n",
            " [2000.0 2 2 4 'No' 'North']\n",
            " [1930.0 2 3 3 'No' 'North']\n",
            " [1930.0 3 3 3 'No' 'East']\n",
            " [2060.0 2 2 1 'Yes' 'East']\n",
            " [1900.0 3 3 3 'Yes' 'East']\n",
            " [2160.0 4 3 3 'Yes' 'East']\n",
            " [2070.0 2 2 2 'No' 'North']\n",
            " [2020.0 3 3 1 'No' 'West']\n",
            " [2250.0 3 3 4 'No' 'North']]\n",
            "[114300. 114200. 114800.  94700. 119800. 114600. 151600. 150700. 119200.\n",
            " 104000. 132500. 123000. 125700. 126300. 176800. 145800. 125700.  83600.\n",
            " 111400. 167200. 116200. 113800.  91700. 106100. 156400. 149300. 137000.\n",
            "  99300.  69100. 188000. 182000. 112300. 135000. 139600. 117800. 117100.\n",
            " 117500. 147000. 125700. 108200. 106600. 133600. 105600. 154000. 166500.\n",
            " 103200. 129800.  90300. 115900. 125700. 151100.  91100. 117400. 130800.\n",
            "  81300. 125700. 140900. 152300. 125700. 155400. 180900. 100900. 161300.\n",
            " 120500. 130300. 111100. 126200. 151900.  93600. 165600. 166700. 157600.\n",
            " 107300. 125700. 144200. 106900. 129800. 176500. 121300. 143600. 125700.\n",
            " 184300. 164800. 147700.  90500. 188300. 102700. 172500. 127700.  97800.\n",
            " 143100. 116500. 125700. 157100. 160600. 152500. 133300. 126800. 145500.\n",
            " 171000. 103200. 123100. 125700. 211200.  82300. 146900. 108500. 134000.\n",
            " 117000. 108700. 111600. 125700. 123600. 115700. 124500. 102500. 199500.\n",
            " 117800. 150200. 109700. 110400. 105600. 144800. 125700. 147900. 113500.\n",
            " 149900. 124600.]\n"
          ]
        }
      ],
      "source": [
        "# Extracting dependent and independent variables:\n",
        "# Extracting independent variable:\n",
        "X = dataset.iloc[:,2:8].values\n",
        "# Extracting dependent variable:\n",
        "y = dataset.iloc[:, 1].values\n",
        "print(X)\n",
        "print(y)"
      ]
    },
    {
      "cell_type": "code",
      "execution_count": null,
      "metadata": {
        "id": "TIKvVvKXRwqD"
      },
      "outputs": [],
      "source": []
    },
    {
      "cell_type": "code",
      "execution_count": null,
      "metadata": {
        "colab": {
          "base_uri": "https://localhost:8080/"
        },
        "id": "0PitH2M0OCT9",
        "outputId": "f0b7f8a6-1728-4e3f-ae50-6b234c77fc96"
      },
      "outputs": [
        {
          "data": {
            "text/plain": [
              "SqFt         0\n",
              "Price        0\n",
              "Bedrooms     0\n",
              "Bathrooms    0\n",
              "Offers       0\n",
              "Brick        0\n",
              "dtype: int64"
            ]
          },
          "execution_count": 7,
          "metadata": {},
          "output_type": "execute_result"
        }
      ],
      "source": [
        "details = pd.DataFrame(X, columns =['SqFt','Price','Bedrooms','Bathrooms','Offers','Brick'])\n",
        "details.isnull().sum()"
      ]
    },
    {
      "cell_type": "code",
      "execution_count": null,
      "metadata": {
        "id": "pjb0drcjR_yM"
      },
      "outputs": [],
      "source": []
    },
    {
      "cell_type": "code",
      "execution_count": null,
      "metadata": {
        "id": "799ov-m2OZuc"
      },
      "outputs": [],
      "source": [
        "# Encoding Categorical data:\n",
        "# Encoding the Independent Variable\n",
        "from sklearn.preprocessing import LabelEncoder\n",
        "labelencoder_X = LabelEncoder()\n",
        "X[:, 4] = labelencoder_X.fit_transform(X[:, 4])\n",
        "X[:, 5] = labelencoder_X.fit_transform(X[:, 5])"
      ]
    },
    {
      "cell_type": "code",
      "execution_count": null,
      "metadata": {
        "colab": {
          "base_uri": "https://localhost:8080/"
        },
        "id": "PjTn3rFmQMg3",
        "outputId": "033ae161-57a2-4e59-9fed-eb4d96661605"
      },
      "outputs": [
        {
          "name": "stdout",
          "output_type": "stream",
          "text": [
            "[[1790.0 2 2 2 0 0]\n",
            " [2030.0 4 2 3 0 0]\n",
            " [1740.0 3 2 1 0 0]\n",
            " [1980.0 3 2 3 0 0]\n",
            " [2130.0 3 3 3 0 0]\n",
            " [1780.0 3 2 2 0 1]\n",
            " [1830.0 3 3 3 1 2]\n",
            " [2160.0 4 2 2 0 2]\n",
            " [2110.0 4 2 3 0 0]\n",
            " [1730.0 3 3 3 0 0]\n",
            " [2030.0 3 2 3 1 0]\n",
            " [1870.0 2 2 2 1 0]\n",
            " [1910.0 3 2 4 0 1]\n",
            " [2150.0 3 3 5 1 1]\n",
            " [2590.0 4 3 4 0 2]\n",
            " [1780.0 4 2 1 0 2]\n",
            " [2190.0 3 3 4 1 0]\n",
            " [2000.0 3 3 4 0 1]\n",
            " [1700.0 2 2 1 1 0]\n",
            " [1920.0 3 3 2 1 2]\n",
            " [1790.0 3 2 3 0 0]\n",
            " [2000.0 3 2 4 0 1]\n",
            " [1690.0 3 2 3 0 1]\n",
            " [1820.0 3 2 3 1 1]\n",
            " [2210.0 4 3 2 1 0]\n",
            " [2290.0 4 3 3 0 1]\n",
            " [2000.0 4 2 3 0 2]\n",
            " [1700.0 3 2 2 0 0]\n",
            " [1600.0 2 2 3 0 1]\n",
            " [2000.0 4 3 1 1 2]\n",
            " [2250.0 4 3 3 1 2]\n",
            " [1930.0 2 2 2 1 1]\n",
            " [2250.0 3 3 3 1 0]\n",
            " [2280.0 5 3 4 1 0]\n",
            " [2000.0 2 2 3 0 1]\n",
            " [2080.0 3 3 3 0 1]\n",
            " [1880.0 2 2 2 0 1]\n",
            " [2420.0 4 3 4 0 2]\n",
            " [1720.0 3 2 1 0 2]\n",
            " [1740.0 3 2 2 0 1]\n",
            " [2000.0 2 2 1 0 0]\n",
            " [1840.0 4 3 2 0 2]\n",
            " [1990.0 2 2 3 0 0]\n",
            " [1920.0 3 2 1 1 0]\n",
            " [1940.0 3 3 2 1 2]\n",
            " [1810.0 3 2 3 0 0]\n",
            " [2000.0 2 3 2 0 1]\n",
            " [2050.0 3 2 6 0 1]\n",
            " [1980.0 2 2 2 0 0]\n",
            " [1700.0 3 2 3 1 1]\n",
            " [2100.0 3 2 3 1 0]\n",
            " [1860.0 2 2 3 0 1]\n",
            " [2150.0 2 3 4 0 1]\n",
            " [2000.0 3 2 3 0 1]\n",
            " [1650.0 3 2 3 0 1]\n",
            " [1720.0 2 2 2 1 0]\n",
            " [2190.0 3 2 3 1 0]\n",
            " [2240.0 4 3 3 0 2]\n",
            " [2000.0 3 3 1 0 2]\n",
            " [2090.0 4 2 1 0 2]\n",
            " [2200.0 3 3 1 0 2]\n",
            " [1610.0 2 2 2 0 1]\n",
            " [2220.0 4 3 2 0 2]\n",
            " [1910.0 2 3 2 0 0]\n",
            " [1860.0 3 2 2 0 2]\n",
            " [1450.0 2 2 1 1 1]\n",
            " [2210.0 3 3 4 0 1]\n",
            " [2040.0 4 3 3 0 0]\n",
            " [2140.0 3 2 4 0 1]\n",
            " [2080.0 4 3 3 0 2]\n",
            " [1950.0 3 3 3 1 2]\n",
            " [2160.0 4 2 1 0 2]\n",
            " [1650.0 3 2 3 0 1]\n",
            " [2040.0 3 3 2 0 0]\n",
            " [2140.0 3 3 3 0 2]\n",
            " [1900.0 2 2 2 0 1]\n",
            " [1930.0 3 2 2 0 2]\n",
            " [2000.0 4 3 3 1 2]\n",
            " [2130.0 3 2 3 0 1]\n",
            " [1780.0 4 2 1 0 2]\n",
            " [2190.0 3 3 4 1 0]\n",
            " [2140.0 4 3 2 1 2]\n",
            " [2050.0 2 2 1 1 2]\n",
            " [2410.0 3 3 2 0 0]\n",
            " [1520.0 2 2 3 0 1]\n",
            " [2250.0 4 3 2 1 2]\n",
            " [1900.0 4 2 4 0 1]\n",
            " [1880.0 3 3 1 1 2]\n",
            " [1930.0 3 3 2 0 1]\n",
            " [2000.0 2 2 4 0 1]\n",
            " [1920.0 4 2 2 0 2]\n",
            " [2150.0 3 2 2 0 0]\n",
            " [2110.0 3 2 2 0 2]\n",
            " [2080.0 3 3 2 0 0]\n",
            " [2150.0 4 3 3 1 2]\n",
            " [1970.0 2 2 1 1 2]\n",
            " [2440.0 3 3 3 0 0]\n",
            " [2000.0 2 2 1 1 0]\n",
            " [2000.0 3 2 1 0 2]\n",
            " [2080.0 3 3 2 1 2]\n",
            " [2010.0 3 2 5 0 1]\n",
            " [2260.0 3 3 5 0 0]\n",
            " [2410.0 3 3 4 0 0]\n",
            " [2440.0 4 3 3 1 2]\n",
            " [1910.0 3 2 4 0 0]\n",
            " [2530.0 4 3 4 0 2]\n",
            " [2130.0 3 2 4 0 1]\n",
            " [1890.0 3 2 1 1 0]\n",
            " [2000.0 3 3 3 1 0]\n",
            " [2110.0 3 2 3 0 0]\n",
            " [1710.0 2 2 1 0 1]\n",
            " [1740.0 2 2 2 0 1]\n",
            " [1940.0 2 2 2 1 0]\n",
            " [2000.0 3 2 3 1 1]\n",
            " [2010.0 4 3 2 0 0]\n",
            " [1900.0 3 3 3 0 1]\n",
            " [2290.0 5 4 1 1 2]\n",
            " [1920.0 3 2 2 0 1]\n",
            " [1950.0 3 2 3 1 1]\n",
            " [2000.0 2 2 4 0 1]\n",
            " [1930.0 2 3 3 0 1]\n",
            " [1930.0 3 3 3 0 0]\n",
            " [2060.0 2 2 1 1 0]\n",
            " [1900.0 3 3 3 1 0]\n",
            " [2160.0 4 3 3 1 0]\n",
            " [2070.0 2 2 2 0 1]\n",
            " [2020.0 3 3 1 0 2]\n",
            " [2250.0 3 3 4 0 1]]\n"
          ]
        }
      ],
      "source": [
        "print(X)"
      ]
    },
    {
      "cell_type": "code",
      "execution_count": null,
      "metadata": {
        "colab": {
          "base_uri": "https://localhost:8080/",
          "height": 300
        },
        "id": "9gNKWXz6S43q",
        "outputId": "162510c3-306a-4eda-9d2b-aac41cc4e785"
      },
      "outputs": [
        {
          "data": {
            "text/html": [
              "\n",
              "  <div id=\"df-740c2d89-cd90-485e-9742-5b3f37bb1bdd\">\n",
              "    <div class=\"colab-df-container\">\n",
              "      <div>\n",
              "<style scoped>\n",
              "    .dataframe tbody tr th:only-of-type {\n",
              "        vertical-align: middle;\n",
              "    }\n",
              "\n",
              "    .dataframe tbody tr th {\n",
              "        vertical-align: top;\n",
              "    }\n",
              "\n",
              "    .dataframe thead th {\n",
              "        text-align: right;\n",
              "    }\n",
              "</style>\n",
              "<table border=\"1\" class=\"dataframe\">\n",
              "  <thead>\n",
              "    <tr style=\"text-align: right;\">\n",
              "      <th></th>\n",
              "      <th>Home</th>\n",
              "      <th>Price</th>\n",
              "      <th>SqFt</th>\n",
              "      <th>Bedrooms</th>\n",
              "      <th>Bathrooms</th>\n",
              "      <th>Offers</th>\n",
              "    </tr>\n",
              "  </thead>\n",
              "  <tbody>\n",
              "    <tr>\n",
              "      <th>count</th>\n",
              "      <td>128.000000</td>\n",
              "      <td>128.000000</td>\n",
              "      <td>128.000000</td>\n",
              "      <td>128.000000</td>\n",
              "      <td>128.000000</td>\n",
              "      <td>128.000000</td>\n",
              "    </tr>\n",
              "    <tr>\n",
              "      <th>mean</th>\n",
              "      <td>64.500000</td>\n",
              "      <td>130216.406250</td>\n",
              "      <td>2002.656250</td>\n",
              "      <td>3.023438</td>\n",
              "      <td>2.445312</td>\n",
              "      <td>2.578125</td>\n",
              "    </tr>\n",
              "    <tr>\n",
              "      <th>std</th>\n",
              "      <td>37.094474</td>\n",
              "      <td>26554.373803</td>\n",
              "      <td>205.524045</td>\n",
              "      <td>0.725951</td>\n",
              "      <td>0.514492</td>\n",
              "      <td>1.069324</td>\n",
              "    </tr>\n",
              "    <tr>\n",
              "      <th>min</th>\n",
              "      <td>1.000000</td>\n",
              "      <td>69100.000000</td>\n",
              "      <td>1450.000000</td>\n",
              "      <td>2.000000</td>\n",
              "      <td>2.000000</td>\n",
              "      <td>1.000000</td>\n",
              "    </tr>\n",
              "    <tr>\n",
              "      <th>25%</th>\n",
              "      <td>32.750000</td>\n",
              "      <td>112125.000000</td>\n",
              "      <td>1897.500000</td>\n",
              "      <td>3.000000</td>\n",
              "      <td>2.000000</td>\n",
              "      <td>2.000000</td>\n",
              "    </tr>\n",
              "    <tr>\n",
              "      <th>50%</th>\n",
              "      <td>64.500000</td>\n",
              "      <td>125700.000000</td>\n",
              "      <td>2000.000000</td>\n",
              "      <td>3.000000</td>\n",
              "      <td>2.000000</td>\n",
              "      <td>3.000000</td>\n",
              "    </tr>\n",
              "    <tr>\n",
              "      <th>75%</th>\n",
              "      <td>96.250000</td>\n",
              "      <td>148250.000000</td>\n",
              "      <td>2140.000000</td>\n",
              "      <td>3.000000</td>\n",
              "      <td>3.000000</td>\n",
              "      <td>3.000000</td>\n",
              "    </tr>\n",
              "    <tr>\n",
              "      <th>max</th>\n",
              "      <td>128.000000</td>\n",
              "      <td>211200.000000</td>\n",
              "      <td>2590.000000</td>\n",
              "      <td>5.000000</td>\n",
              "      <td>4.000000</td>\n",
              "      <td>6.000000</td>\n",
              "    </tr>\n",
              "  </tbody>\n",
              "</table>\n",
              "</div>\n",
              "      <button class=\"colab-df-convert\" onclick=\"convertToInteractive('df-740c2d89-cd90-485e-9742-5b3f37bb1bdd')\"\n",
              "              title=\"Convert this dataframe to an interactive table.\"\n",
              "              style=\"display:none;\">\n",
              "        \n",
              "  <svg xmlns=\"http://www.w3.org/2000/svg\" height=\"24px\"viewBox=\"0 0 24 24\"\n",
              "       width=\"24px\">\n",
              "    <path d=\"M0 0h24v24H0V0z\" fill=\"none\"/>\n",
              "    <path d=\"M18.56 5.44l.94 2.06.94-2.06 2.06-.94-2.06-.94-.94-2.06-.94 2.06-2.06.94zm-11 1L8.5 8.5l.94-2.06 2.06-.94-2.06-.94L8.5 2.5l-.94 2.06-2.06.94zm10 10l.94 2.06.94-2.06 2.06-.94-2.06-.94-.94-2.06-.94 2.06-2.06.94z\"/><path d=\"M17.41 7.96l-1.37-1.37c-.4-.4-.92-.59-1.43-.59-.52 0-1.04.2-1.43.59L10.3 9.45l-7.72 7.72c-.78.78-.78 2.05 0 2.83L4 21.41c.39.39.9.59 1.41.59.51 0 1.02-.2 1.41-.59l7.78-7.78 2.81-2.81c.8-.78.8-2.07 0-2.86zM5.41 20L4 18.59l7.72-7.72 1.47 1.35L5.41 20z\"/>\n",
              "  </svg>\n",
              "      </button>\n",
              "      \n",
              "  <style>\n",
              "    .colab-df-container {\n",
              "      display:flex;\n",
              "      flex-wrap:wrap;\n",
              "      gap: 12px;\n",
              "    }\n",
              "\n",
              "    .colab-df-convert {\n",
              "      background-color: #E8F0FE;\n",
              "      border: none;\n",
              "      border-radius: 50%;\n",
              "      cursor: pointer;\n",
              "      display: none;\n",
              "      fill: #1967D2;\n",
              "      height: 32px;\n",
              "      padding: 0 0 0 0;\n",
              "      width: 32px;\n",
              "    }\n",
              "\n",
              "    .colab-df-convert:hover {\n",
              "      background-color: #E2EBFA;\n",
              "      box-shadow: 0px 1px 2px rgba(60, 64, 67, 0.3), 0px 1px 3px 1px rgba(60, 64, 67, 0.15);\n",
              "      fill: #174EA6;\n",
              "    }\n",
              "\n",
              "    [theme=dark] .colab-df-convert {\n",
              "      background-color: #3B4455;\n",
              "      fill: #D2E3FC;\n",
              "    }\n",
              "\n",
              "    [theme=dark] .colab-df-convert:hover {\n",
              "      background-color: #434B5C;\n",
              "      box-shadow: 0px 1px 3px 1px rgba(0, 0, 0, 0.15);\n",
              "      filter: drop-shadow(0px 1px 2px rgba(0, 0, 0, 0.3));\n",
              "      fill: #FFFFFF;\n",
              "    }\n",
              "  </style>\n",
              "\n",
              "      <script>\n",
              "        const buttonEl =\n",
              "          document.querySelector('#df-740c2d89-cd90-485e-9742-5b3f37bb1bdd button.colab-df-convert');\n",
              "        buttonEl.style.display =\n",
              "          google.colab.kernel.accessAllowed ? 'block' : 'none';\n",
              "\n",
              "        async function convertToInteractive(key) {\n",
              "          const element = document.querySelector('#df-740c2d89-cd90-485e-9742-5b3f37bb1bdd');\n",
              "          const dataTable =\n",
              "            await google.colab.kernel.invokeFunction('convertToInteractive',\n",
              "                                                     [key], {});\n",
              "          if (!dataTable) return;\n",
              "\n",
              "          const docLinkHtml = 'Like what you see? Visit the ' +\n",
              "            '<a target=\"_blank\" href=https://colab.research.google.com/notebooks/data_table.ipynb>data table notebook</a>'\n",
              "            + ' to learn more about interactive tables.';\n",
              "          element.innerHTML = '';\n",
              "          dataTable['output_type'] = 'display_data';\n",
              "          await google.colab.output.renderOutput(dataTable, element);\n",
              "          const docLink = document.createElement('div');\n",
              "          docLink.innerHTML = docLinkHtml;\n",
              "          element.appendChild(docLink);\n",
              "        }\n",
              "      </script>\n",
              "    </div>\n",
              "  </div>\n",
              "  "
            ],
            "text/plain": [
              "             Home          Price         SqFt    Bedrooms   Bathrooms  \\\n",
              "count  128.000000     128.000000   128.000000  128.000000  128.000000   \n",
              "mean    64.500000  130216.406250  2002.656250    3.023438    2.445312   \n",
              "std     37.094474   26554.373803   205.524045    0.725951    0.514492   \n",
              "min      1.000000   69100.000000  1450.000000    2.000000    2.000000   \n",
              "25%     32.750000  112125.000000  1897.500000    3.000000    2.000000   \n",
              "50%     64.500000  125700.000000  2000.000000    3.000000    2.000000   \n",
              "75%     96.250000  148250.000000  2140.000000    3.000000    3.000000   \n",
              "max    128.000000  211200.000000  2590.000000    5.000000    4.000000   \n",
              "\n",
              "           Offers  \n",
              "count  128.000000  \n",
              "mean     2.578125  \n",
              "std      1.069324  \n",
              "min      1.000000  \n",
              "25%      2.000000  \n",
              "50%      3.000000  \n",
              "75%      3.000000  \n",
              "max      6.000000  "
            ]
          },
          "execution_count": 10,
          "metadata": {},
          "output_type": "execute_result"
        }
      ],
      "source": [
        "dataset.describe()"
      ]
    },
    {
      "cell_type": "code",
      "execution_count": null,
      "metadata": {
        "id": "Pakqxocygj8E"
      },
      "outputs": [],
      "source": [
        "# Splitting the Dataset into the Training set and Test set\n",
        "\n",
        "# Splitting the dataset into the Training set and Test set\n",
        "from sklearn.model_selection import train_test_split\n",
        "X_train, X_test, y_train, y_test = train_test_split(X, y, test_size = 0.2, random_state = 42)"
      ]
    },
    {
      "cell_type": "code",
      "execution_count": null,
      "metadata": {
        "colab": {
          "base_uri": "https://localhost:8080/"
        },
        "id": "vkU5QmG5gpLu",
        "outputId": "8df1e294-6b68-47ac-8801-7f24bd6b8bf8"
      },
      "outputs": [
        {
          "name": "stdout",
          "output_type": "stream",
          "text": [
            "[[1950.0 3 3 3 1 2]\n",
            " [2130.0 3 2 3 0 1]\n",
            " [2050.0 3 2 6 0 1]\n",
            " [1790.0 2 2 2 0 0]\n",
            " [1910.0 3 2 4 0 1]\n",
            " [1990.0 2 2 3 0 0]\n",
            " [2020.0 3 3 1 0 2]\n",
            " [2210.0 4 3 2 1 0]\n",
            " [2040.0 4 3 3 0 0]\n",
            " [1740.0 2 2 2 0 1]\n",
            " [2000.0 2 2 4 0 1]\n",
            " [1780.0 4 2 1 0 2]\n",
            " [2000.0 4 3 3 1 2]\n",
            " [1690.0 3 2 3 0 1]\n",
            " [1940.0 3 3 2 1 2]\n",
            " [1450.0 2 2 1 1 1]\n",
            " [1970.0 2 2 1 1 2]\n",
            " [2250.0 4 3 3 1 2]\n",
            " [2220.0 4 3 2 0 2]\n",
            " [1930.0 3 3 3 0 0]\n",
            " [1730.0 3 3 3 0 0]\n",
            " [2280.0 5 3 4 1 0]\n",
            " [2210.0 3 3 4 0 1]\n",
            " [2290.0 4 3 3 0 1]\n",
            " [1900.0 3 3 3 0 1]\n",
            " [1600.0 2 2 3 0 1]\n",
            " [2000.0 2 2 1 1 0]\n",
            " [2150.0 3 2 2 0 0]\n",
            " [2000.0 3 2 3 0 1]\n",
            " [1780.0 3 2 2 0 1]\n",
            " [2140.0 3 2 4 0 1]\n",
            " [2040.0 3 3 2 0 0]\n",
            " [1740.0 3 2 2 0 1]\n",
            " [1700.0 3 2 3 1 1]\n",
            " [2080.0 3 3 3 0 1]\n",
            " [2190.0 3 3 4 1 0]\n",
            " [2060.0 2 2 1 1 0]\n",
            " [2000.0 2 2 3 0 1]\n",
            " [2250.0 4 3 2 1 2]\n",
            " [2160.0 4 2 2 0 2]\n",
            " [1920.0 3 2 1 1 0]\n",
            " [1930.0 3 2 2 0 2]\n",
            " [1940.0 2 2 2 1 0]\n",
            " [2000.0 3 3 3 1 0]\n",
            " [2110.0 4 2 3 0 0]\n",
            " [2150.0 3 3 5 1 1]\n",
            " [2080.0 3 3 2 0 0]\n",
            " [1980.0 3 2 3 0 0]\n",
            " [2000.0 3 3 4 0 1]\n",
            " [1720.0 3 2 1 0 2]\n",
            " [1650.0 3 2 3 0 1]\n",
            " [2010.0 3 2 5 0 1]\n",
            " [1830.0 3 3 3 1 2]\n",
            " [2410.0 3 3 2 0 0]\n",
            " [1710.0 2 2 1 0 1]\n",
            " [2000.0 2 2 4 0 1]\n",
            " [1650.0 3 2 3 0 1]\n",
            " [2100.0 3 2 3 1 0]\n",
            " [1920.0 3 2 2 0 1]\n",
            " [2000.0 2 3 2 0 1]\n",
            " [1900.0 3 3 3 1 0]\n",
            " [1610.0 2 2 2 0 1]\n",
            " [2160.0 4 3 3 1 0]\n",
            " [1780.0 4 2 1 0 2]\n",
            " [2260.0 3 3 5 0 0]\n",
            " [1840.0 4 3 2 0 2]\n",
            " [2000.0 3 3 1 0 2]\n",
            " [1920.0 4 2 2 0 2]\n",
            " [1980.0 2 2 2 0 0]\n",
            " [1930.0 3 3 2 0 1]\n",
            " [2110.0 3 2 3 0 0]\n",
            " [2240.0 4 3 3 0 2]\n",
            " [1900.0 2 2 2 0 1]\n",
            " [2250.0 3 3 3 1 0]\n",
            " [1930.0 2 3 3 0 1]\n",
            " [2090.0 4 2 1 0 2]\n",
            " [1910.0 2 3 2 0 0]\n",
            " [1890.0 3 2 1 1 0]\n",
            " [2420.0 4 3 4 0 2]\n",
            " [2000.0 4 3 1 1 2]\n",
            " [2010.0 4 3 2 0 0]\n",
            " [2030.0 4 2 3 0 0]\n",
            " [2150.0 2 3 4 0 1]\n",
            " [2000.0 3 2 4 0 1]\n",
            " [1740.0 3 2 1 0 0]\n",
            " [1820.0 3 2 3 1 1]\n",
            " [2440.0 4 3 3 1 2]\n",
            " [2080.0 3 3 2 1 2]\n",
            " [1880.0 3 3 1 1 2]\n",
            " [2290.0 5 4 1 1 2]\n",
            " [2140.0 3 3 3 0 2]\n",
            " [1900.0 4 2 4 0 1]\n",
            " [2050.0 2 2 1 1 2]\n",
            " [2250.0 3 3 4 0 1]\n",
            " [1790.0 3 2 3 0 0]\n",
            " [2200.0 3 3 1 0 2]\n",
            " [2160.0 4 2 1 0 2]\n",
            " [2130.0 3 2 4 0 1]\n",
            " [2590.0 4 3 4 0 2]\n",
            " [2110.0 3 2 2 0 2]\n",
            " [1860.0 2 2 3 0 1]\n",
            " [2410.0 3 3 4 0 0]]\n"
          ]
        }
      ],
      "source": [
        "print(X_train)"
      ]
    },
    {
      "cell_type": "code",
      "execution_count": null,
      "metadata": {
        "colab": {
          "base_uri": "https://localhost:8080/"
        },
        "id": "Dh7xPIGVgsCq",
        "outputId": "3d4ec0e0-fc52-4606-feb8-c2048ef9609e"
      },
      "outputs": [
        {
          "name": "stdout",
          "output_type": "stream",
          "text": [
            "[166700. 121300.  90300. 114300. 125700. 105600. 149900. 156400. 151900.\n",
            " 125700.  97800. 145800. 176500.  91700. 166500. 111100. 152500. 182000.\n",
            " 161300. 105600. 104000. 139600. 126200. 149300. 102500.  69100. 126800.\n",
            " 116500. 130800. 114600.  93600. 125700. 108200. 125700. 117100. 125700.\n",
            " 144800. 117800. 188300. 150700. 154000. 129800. 123600. 117000. 119200.\n",
            " 126300. 157100.  94700.  83600. 125700. 107300. 103200. 151600. 147700.\n",
            " 111600. 109700.  81300. 151100. 117800. 129800. 125700. 100900. 147900.\n",
            " 143600. 123100. 133600. 125700. 143100. 115900. 127700. 108700. 152300.\n",
            " 106900. 135000. 110400. 155400. 120500. 134000. 147000. 188000. 124500.\n",
            " 114200. 117400. 113800. 114800. 106100. 211200. 171000. 172500. 199500.\n",
            " 144200. 102700. 164800. 124600. 116200. 180900. 157600. 108500. 176800.\n",
            " 125700.  91100. 125700.]\n"
          ]
        }
      ],
      "source": [
        "print(y_train)"
      ]
    },
    {
      "cell_type": "code",
      "execution_count": null,
      "metadata": {
        "colab": {
          "base_uri": "https://localhost:8080/"
        },
        "id": "KqhnRjoQgvUX",
        "outputId": "0955ddaa-4616-4b8d-b4c9-88ea0d2d845a"
      },
      "outputs": [
        {
          "name": "stdout",
          "output_type": "stream",
          "text": [
            "[125700. 106600. 167200. 112300. 145500. 140900. 165600.  82300. 184300.\n",
            " 137000. 160600.  99300. 130300. 119800. 133300. 115700. 117500. 125700.\n",
            " 113500.  90500. 111400. 132500. 150200. 123000. 146900. 103200.]\n"
          ]
        }
      ],
      "source": [
        "\n",
        "print(y_test)"
      ]
    },
    {
      "cell_type": "code",
      "execution_count": null,
      "metadata": {
        "colab": {
          "base_uri": "https://localhost:8080/"
        },
        "id": "LyatrxjngxWy",
        "outputId": "d6db2416-634d-4888-a531-74b1571373af"
      },
      "outputs": [
        {
          "name": "stdout",
          "output_type": "stream",
          "text": [
            "[[1720.0 2 2 2 1 0]\n",
            " [2000.0 2 2 1 0 0]\n",
            " [1920.0 3 3 2 1 2]\n",
            " [1930.0 2 2 2 1 1]\n",
            " [2000.0 3 2 1 0 2]\n",
            " [2190.0 3 2 3 1 0]\n",
            " [2080.0 4 3 3 0 2]\n",
            " [1910.0 3 2 4 0 0]\n",
            " [2140.0 4 3 2 1 2]\n",
            " [2000.0 4 2 3 0 2]\n",
            " [2150.0 4 3 3 1 2]\n",
            " [1700.0 3 2 2 0 0]\n",
            " [1860.0 3 2 2 0 2]\n",
            " [2130.0 3 3 3 0 0]\n",
            " [2440.0 3 3 3 0 0]\n",
            " [2000.0 3 2 3 1 1]\n",
            " [1880.0 2 2 2 0 1]\n",
            " [2190.0 3 3 4 1 0]\n",
            " [2070.0 2 2 2 0 1]\n",
            " [1520.0 2 2 3 0 1]\n",
            " [1700.0 2 2 1 1 0]\n",
            " [2030.0 3 2 3 1 0]\n",
            " [1950.0 3 2 3 1 1]\n",
            " [1870.0 2 2 2 1 0]\n",
            " [2530.0 4 3 4 0 2]\n",
            " [1810.0 3 2 3 0 0]]\n"
          ]
        }
      ],
      "source": [
        "print(X_test)"
      ]
    },
    {
      "cell_type": "code",
      "execution_count": null,
      "metadata": {
        "colab": {
          "base_uri": "https://localhost:8080/"
        },
        "id": "xlduM5VYnE8f",
        "outputId": "aa60bc0b-c062-4e48-c545-b07f849e3a2e"
      },
      "outputs": [
        {
          "data": {
            "text/plain": [
              "SqFt         0\n",
              "Price        0\n",
              "Bedrooms     0\n",
              "Bathrooms    0\n",
              "Offers       0\n",
              "Brick        0\n",
              "dtype: int64"
            ]
          },
          "execution_count": 16,
          "metadata": {},
          "output_type": "execute_result"
        }
      ],
      "source": [
        "\n",
        "details = pd.DataFrame(X, columns =['SqFt','Price','Bedrooms','Bathrooms','Offers','Brick'])\n",
        "details.isnull().sum()"
      ]
    },
    {
      "cell_type": "code",
      "execution_count": null,
      "metadata": {
        "colab": {
          "base_uri": "https://localhost:8080/"
        },
        "id": "WGQY_p5zgzEp",
        "outputId": "a40d9179-b466-4e9f-c574-b531b84a6e0c"
      },
      "outputs": [
        {
          "data": {
            "text/plain": [
              "LinearRegression()"
            ]
          },
          "execution_count": 17,
          "metadata": {},
          "output_type": "execute_result"
        }
      ],
      "source": [
        "# Fitting Simple Linear Regression to the Training set\n",
        "from sklearn.linear_model import LinearRegression\n",
        "regressor = LinearRegression()\n",
        "regressor.fit(X_train, y_train)"
      ]
    },
    {
      "cell_type": "code",
      "execution_count": null,
      "metadata": {
        "colab": {
          "base_uri": "https://localhost:8080/"
        },
        "id": "XBD5qbOKg2RC",
        "outputId": "2d34d8b1-26ae-49dc-a1fa-508ed3076692"
      },
      "outputs": [
        {
          "name": "stdout",
          "output_type": "stream",
          "text": [
            "[113820.95211208 120122.47342255 158749.18471214 136162.16884809\n",
            " 146476.02765249 138440.37807101 144819.52727809  91821.31439401\n",
            " 178387.40164496 133363.67944076 169130.94960548  99062.73679605\n",
            " 128321.03744702 121432.15243681 139822.46464653 137052.15969771\n",
            " 113037.21827616 135300.65096926 124308.69995309  81831.03876057\n",
            " 122484.16827383 128948.60402729 134085.98030904 122719.49027807\n",
            " 161665.45385885  95738.6435339 ]\n"
          ]
        }
      ],
      "source": [
        "y_pred = regressor.predict(X_test)\n",
        "print(y_pred)\n"
      ]
    },
    {
      "cell_type": "code",
      "execution_count": null,
      "metadata": {
        "colab": {
          "base_uri": "https://localhost:8080/"
        },
        "id": "TO0L1uNNiKOR",
        "outputId": "42240b45-7261-4453-99ea-56326ca06c9e"
      },
      "outputs": [
        {
          "name": "stdout",
          "output_type": "stream",
          "text": [
            "Regressor slope:  59  \n",
            "Regressor intercept:-15269  \n"
          ]
        }
      ],
      "source": [
        "print(\"Regressor slope:  %2.f  \"%( regressor.coef_[0]))\n",
        "print(\"Regressor intercept:%2.f  \"% regressor.intercept_)"
      ]
    },
    {
      "cell_type": "code",
      "execution_count": null,
      "metadata": {
        "colab": {
          "base_uri": "https://localhost:8080/"
        },
        "id": "0ja1AS_EiSDi",
        "outputId": "886dbcca-26c1-4fe1-8d24-4d95dbf19e83"
      },
      "outputs": [
        {
          "name": "stdout",
          "output_type": "stream",
          "text": [
            "Price for given SqFt is :     137740.13\n"
          ]
        }
      ],
      "source": [
        "SqFt= 1790\n",
        "Bedrooms = 2\n",
        "Bathrooms = 2\n",
        "Offers = 2\n",
        "Brick = 1\n",
        "Neighborhood = 2\n",
        "print(\"Price for given SqFt is :     %.2f\"    %(regressor.predict([[SqFt,Bedrooms,Bathrooms,Offers,Brick,Neighborhood]])))"
      ]
    },
    {
      "cell_type": "code",
      "execution_count": null,
      "metadata": {
        "colab": {
          "base_uri": "https://localhost:8080/"
        },
        "id": "ZwA8_GBNicWE",
        "outputId": "4ab6fcf0-c40a-4365-cc34-59a62c5e833c"
      },
      "outputs": [
        {
          "name": "stdout",
          "output_type": "stream",
          "text": [
            "MAE 8771\n"
          ]
        }
      ],
      "source": [
        "from sklearn import metrics\n",
        "print(\"MAE %2.f\" %(metrics.mean_absolute_error(y_test,y_pred)))"
      ]
    },
    {
      "cell_type": "code",
      "execution_count": null,
      "metadata": {
        "colab": {
          "base_uri": "https://localhost:8080/"
        },
        "id": "AmOF_lSztlrh",
        "outputId": "bbb3240c-d5d2-4615-af19-74d14bd31376"
      },
      "outputs": [
        {
          "name": "stdout",
          "output_type": "stream",
          "text": [
            "RMSE 94\n"
          ]
        }
      ],
      "source": [
        "from sklearn import metrics\n",
        "print(\"RMSE %2.f\" %(np.sqrt(metrics.mean_absolute_error(y_test,y_pred))))"
      ]
    },
    {
      "cell_type": "code",
      "execution_count": null,
      "metadata": {
        "colab": {
          "base_uri": "https://localhost:8080/"
        },
        "id": "d_8DIyiqtqWU",
        "outputId": "323c210b-5f26-4219-9324-440bf7260802"
      },
      "outputs": [
        {
          "name": "stdout",
          "output_type": "stream",
          "text": [
            "Train Score: 0.829635\n",
            "Test Score: 0.795444\n",
            "Underfitting\n"
          ]
        }
      ],
      "source": [
        "print('Train Score: %f' %(regressor.score(X_train, y_train)))\n",
        "print('Test Score: %f' % (regressor.score(X_test, y_test)) )\n",
        "print(\"Underfitting\")"
      ]
    },
    {
      "cell_type": "code",
      "execution_count": null,
      "metadata": {
        "colab": {
          "base_uri": "https://localhost:8080/"
        },
        "id": "oVKxJJLGts1j",
        "outputId": "c13dd1f3-9bc8-4fd2-f4b6-40f999e710bc"
      },
      "outputs": [
        {
          "data": {
            "text/plain": [
              "array([113820.95211208, 120122.47342255, 158749.18471214, 136162.16884809,\n",
              "       146476.02765249, 138440.37807101, 144819.52727809,  91821.31439401,\n",
              "       178387.40164496, 133363.67944076, 169130.94960548,  99062.73679605,\n",
              "       128321.03744702, 121432.15243681, 139822.46464653, 137052.15969771,\n",
              "       113037.21827616, 135300.65096926, 124308.69995309,  81831.03876057,\n",
              "       122484.16827383, 128948.60402729, 134085.98030904, 122719.49027807,\n",
              "       161665.45385885,  95738.6435339 ])"
            ]
          },
          "execution_count": 24,
          "metadata": {},
          "output_type": "execute_result"
        }
      ],
      "source": [
        "import pickle\n",
        "\n",
        "# Save the trained model as a pickle string.\n",
        "saved_model = pickle.dumps(regressor)\n",
        "\n",
        "# Load the pickled model\n",
        "saved_model = pickle.loads(saved_model)\n",
        "\n",
        "# Use the loaded pickled model to make predictions\n",
        "saved_model.predict(X_test)"
      ]
    },
    {
      "cell_type": "code",
      "execution_count": null,
      "metadata": {
        "colab": {
          "base_uri": "https://localhost:8080/"
        },
        "id": "Pth61SIdtx1J",
        "outputId": "df1c7a3c-11d7-4778-a6f2-dde8011cfec5"
      },
      "outputs": [
        {
          "name": "stdout",
          "output_type": "stream",
          "text": [
            "0.7954436576128349\n"
          ]
        }
      ],
      "source": [
        "import joblib\n",
        "filename = '/content/drive/My Drive/linear.sav'\n",
        "joblib.dump(regressor, filename)\n",
        "\n",
        "# some time later...\n",
        "\n",
        "# load the model from disk\n",
        "loaded_model = joblib.load(filename)\n",
        "result = loaded_model.score(X_test, y_test)\n",
        "print(result)"
      ]
    },
    {
      "cell_type": "code",
      "execution_count": null,
      "metadata": {
        "colab": {
          "base_uri": "https://localhost:8080/"
        },
        "id": "AxKe5evet3bS",
        "outputId": "1195204b-6fd7-4e3f-dc4d-d5f1de3f6b40"
      },
      "outputs": [
        {
          "name": "stdout",
          "output_type": "stream",
          "text": [
            "[INFO] Saving model...\n"
          ]
        }
      ],
      "source": [
        "import pickle\n",
        "print(\"[INFO] Saving model...\")\n",
        "# Save the trained model as a pickle string.\n",
        "saved_model=pickle.dump(regressor,open('/content/drive/My Drive/linearregressionm.pkl', 'wb'))\n",
        "# Saving model to disk"
      ]
    },
    {
      "cell_type": "code",
      "execution_count": null,
      "metadata": {
        "colab": {
          "base_uri": "https://localhost:8080/"
        },
        "id": "jDOzxOGKuDKN",
        "outputId": "723a6452-2698-42bc-d294-2a9c0a58b29f"
      },
      "outputs": [
        {
          "data": {
            "text/plain": [
              "array([113820.95211208, 120122.47342255, 158749.18471214, 136162.16884809,\n",
              "       146476.02765249, 138440.37807101, 144819.52727809,  91821.31439401,\n",
              "       178387.40164496, 133363.67944076, 169130.94960548,  99062.73679605,\n",
              "       128321.03744702, 121432.15243681, 139822.46464653, 137052.15969771,\n",
              "       113037.21827616, 135300.65096926, 124308.69995309,  81831.03876057,\n",
              "       122484.16827383, 128948.60402729, 134085.98030904, 122719.49027807,\n",
              "       161665.45385885,  95738.6435339 ])"
            ]
          },
          "execution_count": 27,
          "metadata": {},
          "output_type": "execute_result"
        }
      ],
      "source": [
        "# Load the pickled model\n",
        "import pickle\n",
        "model = pickle.load(open('/content/drive/My Drive/linearregressionm.pkl','rb'))\n",
        "# Use the loaded pickled model to make predictions\n",
        "model.predict(X_test)"
      ]
    },
    {
      "cell_type": "code",
      "execution_count": null,
      "metadata": {
        "colab": {
          "base_uri": "https://localhost:8080/"
        },
        "id": "59eV3s4vub6h",
        "outputId": "6476595b-8c94-47a3-96ca-3f8a8ca04942"
      },
      "outputs": [
        {
          "name": "stdout",
          "output_type": "stream",
          "text": [
            "Looking in indexes: https://pypi.org/simple, https://us-python.pkg.dev/colab-wheels/public/simple/\n",
            "Collecting flask-ngrok\n",
            "  Downloading flask_ngrok-0.0.25-py3-none-any.whl (3.1 kB)\n",
            "Requirement already satisfied: Flask>=0.8 in /usr/local/lib/python3.7/dist-packages (from flask-ngrok) (1.1.4)\n",
            "Requirement already satisfied: requests in /usr/local/lib/python3.7/dist-packages (from flask-ngrok) (2.23.0)\n",
            "Requirement already satisfied: click<8.0,>=5.1 in /usr/local/lib/python3.7/dist-packages (from Flask>=0.8->flask-ngrok) (7.1.2)\n",
            "Requirement already satisfied: Werkzeug<2.0,>=0.15 in /usr/local/lib/python3.7/dist-packages (from Flask>=0.8->flask-ngrok) (1.0.1)\n",
            "Requirement already satisfied: itsdangerous<2.0,>=0.24 in /usr/local/lib/python3.7/dist-packages (from Flask>=0.8->flask-ngrok) (1.1.0)\n",
            "Requirement already satisfied: Jinja2<3.0,>=2.10.1 in /usr/local/lib/python3.7/dist-packages (from Flask>=0.8->flask-ngrok) (2.11.3)\n",
            "Requirement already satisfied: MarkupSafe>=0.23 in /usr/local/lib/python3.7/dist-packages (from Jinja2<3.0,>=2.10.1->Flask>=0.8->flask-ngrok) (2.0.1)\n",
            "Requirement already satisfied: urllib3!=1.25.0,!=1.25.1,<1.26,>=1.21.1 in /usr/local/lib/python3.7/dist-packages (from requests->flask-ngrok) (1.24.3)\n",
            "Requirement already satisfied: idna<3,>=2.5 in /usr/local/lib/python3.7/dist-packages (from requests->flask-ngrok) (2.10)\n",
            "Requirement already satisfied: chardet<4,>=3.0.2 in /usr/local/lib/python3.7/dist-packages (from requests->flask-ngrok) (3.0.4)\n",
            "Requirement already satisfied: certifi>=2017.4.17 in /usr/local/lib/python3.7/dist-packages (from requests->flask-ngrok) (2022.6.15)\n",
            "Installing collected packages: flask-ngrok\n",
            "Successfully installed flask-ngrok-0.0.25\n"
          ]
        }
      ],
      "source": [
        "!pip install flask-ngrok"
      ]
    },
    {
      "cell_type": "code",
      "execution_count": null,
      "metadata": {
        "colab": {
          "base_uri": "https://localhost:8080/"
        },
        "id": "Bnf-8Oo_ujoV",
        "outputId": "ef06bb91-deb6-44d5-cd33-750be44c2069"
      },
      "outputs": [
        {
          "name": "stdout",
          "output_type": "stream",
          "text": [
            "Drive already mounted at /content/drive; to attempt to forcibly remount, call drive.mount(\"/content/drive\", force_remount=True).\n"
          ]
        }
      ],
      "source": [
        "# Mounting Google Drive\n",
        "from google.colab import drive\n",
        "drive.mount('/content/drive')"
      ]
    },
    {
      "cell_type": "code",
      "execution_count": null,
      "metadata": {
        "id": "1FDzPFOYunMt"
      },
      "outputs": [],
      "source": [
        "%mkdir templates -p"
      ]
    },
    {
      "cell_type": "code",
      "execution_count": null,
      "metadata": {
        "colab": {
          "base_uri": "https://localhost:8080/"
        },
        "id": "hkS2Gb8cuqsM",
        "outputId": "a4e0b73e-5388-45c6-c04a-28f9717aa8a8"
      },
      "outputs": [
        {
          "name": "stdout",
          "output_type": "stream",
          "text": [
            "Overwriting templates/index.html\n"
          ]
        }
      ],
      "source": [
        "%%writefile templates/index.html\n",
        "<!DOCTYPE html>\n",
        "<html >\n",
        "<!--From https://codepen.io/frytyler/pen/EGdtg-->\n",
        "<head>\n",
        "<title>Machine Learning Lab Experiment Deployment</title>\n",
        "<meta charset=\"UTF-8\">\n",
        "<link href='https://fonts.googleapis.com/css?family=Pacifico' rel='stylesheet' type='text/css'>\n",
        "<link href='https://fonts.googleapis.com/css?family=Arimo' rel='stylesheet' type='text/css'>\n",
        "<link href='https://fonts.googleapis.com/css?family=Hind:300' rel='stylesheet' type='text/css'>\n",
        "<link href='https://fonts.googleapis.com/css?family=Open+Sans+Condensed:300' rel='stylesheet' type='text/css'>\n",
        " <link href=\"https://cdn.jsdelivr.net/npm/bootstrap@5.0.0-beta1/dist/css/bootstrap.min.css\" rel=\"stylesheet\" integrity=\"sha384-giJF6kkoqNQ00vy+HMDP7azOuL0xtbfIcaT9wjKHr8RbDVddVHyTfAAsrekwKmP1\" crossorigin=\"anonymous\">\n",
        "<style><!DOCTYPE html>\n",
        "\n",
        "h1 {text-align: center;}\n",
        "h2 {text-align: center;}\n",
        "h3 {text-align: center;}\n",
        "p {text-align: center;}\n",
        "div {text-align: center;}\n",
        "</style>\n",
        "</head>\n",
        "\n",
        "<body>\n",
        "\n",
        "\n",
        "<div class=\"\" style=\"background-color:blue;\" >\n",
        "<div class=\"clearfix\">\n",
        "\n",
        "<div class=\"col-md-12\">\n",
        "<center><p style=\"font-size:40px;color:white;margin-top:10px;\">Poornima Institute of Engineering & Technology</p></center>\n",
        "<center><p style=\"font-size:30px;color:white;margin-top:10px;\">Department of Computer Engineering</p></center>\n",
        "<center><p style=\"font-size:25px;color:white;margin-top:10px;\">Machine Learning Experiment Deployment</p></center>\n",
        "</div>\n",
        "</div>\n",
        "</div>\n",
        "\n",
        "<div class=\"login\">\n",
        "<h2 >Regression Analysis to predict the price by the inputes for a Area</h2>\n",
        "<h4>Developed by Mohammed Umar Tanwar</h4>\n",
        "<!-- Main Input For Receiving Query to our ML -->\n",
        "<form action=\"{{ url_for('predict')}}\"method=\"get\">\n",
        "<div class=\"form-floating mb-3\">\n",
        "\n",
        "<input type=\"number\" class=\"form-control\" id=\" SqFt\" name=\"SqFt\" step=\"any\" min=\"0\" max=\"10000000000\" placeholder=\"0\" required=\"required\">\n",
        "<label for=\"floatingInput\">Enter Sqft of Area</label>\n",
        "</div>\n",
        "<br>\n",
        "\n",
        "<div class=\"form-floating mb-3\">\n",
        "<input type=\"number\" class=\"form-control\" id=\"bedrooms\" name=\"bedrooms\" step=\"any\" min=\"0\" max=\"10\" placeholder=\"0\" required=\"required\">\n",
        "<label for=\"floatingInput\">Enter no. of Bedrooms</label>\n",
        "</div>\n",
        "<br>\n",
        "\n",
        "<div class=\"form-floating mb-3\">\n",
        "<input type=\"number\" class=\"form-control\" id=\"Bathrooms\" name=\"Bathrooms\" step=\"any\" min=\"0\" max=\"10\" placeholder=\"0\" required=\"required\">\n",
        "<label for=\"floatingInput\">Enter number of bathrooms</label>\n",
        "</div>\n",
        "<br>\n",
        "\n",
        "<div class=\"form-floating mb-3\">\n",
        "<input type=\"number\" class=\"form-control\" id=\"Offers\" name=\"Offers\" step=\"any\" min=\"0\" max=\"10\" placeholder=\"0\" required=\"required\">\n",
        "<label for=\"floatingInput\">Enter no. of offers</label>\n",
        "</div>\n",
        "<br>\n",
        "\n",
        "<div class=\"form-floating mb-3\">\n",
        "<input type=\"number\" class=\"form-control\" id=\"bricks\" name=\"bricks\" step=\"any\" min=\"0\" max=\"10\" placeholder=\"0\" required=\"required\">\n",
        "<label for=\"floatingInput\">Enter the brick is available or not</label>\n",
        "</div>\n",
        "<br>\n",
        "\n",
        "<div class=\"form-floating mb-3\">\n",
        "<input type=\"number\" class=\"form-control\" id=\"Neighborhood\" name=\"Neighborhood\" step=\"any\" min=\"0\" max=\"10\" placeholder=\"0\" required=\"required\">\n",
        "<label for=\"floatingInput\">Enter the Neighborhood</label>\n",
        "</div>\n",
        "<br>\n",
        "\n",
        "<br>\n",
        "<button type=\"submit\" class=\"btn btn-primary btn-block btn-large\">Predict Price for Given Requirements</button>\n",
        "</form>\n",
        "<br>\n",
        "<br>\n",
        "{{ prediction_text }}\n",
        "\n",
        "</div>\n",
        "\n",
        "<div class=\"\" style=\"background-color:blue;\" >\n",
        "<div class=\"clearfix\">\n",
        "\n",
        "<div class=\"col-md-12\">\n",
        " <center><p style=\"font-size:25px;color:white;margin-top:20px;\">Machine Learning  Experiment </p></center>\n",
        "</div>\n",
        "</div>\n",
        "</div>\n",
        "</body>\n",
        "</html>\n"
      ]
    },
    {
      "cell_type": "code",
      "execution_count": null,
      "metadata": {
        "colab": {
          "base_uri": "https://localhost:8080/"
        },
        "id": "fThz2TYY6XQ2",
        "outputId": "ac08e114-09c5-4645-fac0-b7eb88c010a4"
      },
      "outputs": [
        {
          "name": "stdout",
          "output_type": "stream",
          "text": [
            "Looking in indexes: https://pypi.org/simple, https://us-python.pkg.dev/colab-wheels/public/simple/\n",
            "Requirement already satisfied: pyngrok in /usr/local/lib/python3.7/dist-packages (5.1.0)\n",
            "Requirement already satisfied: PyYAML in /usr/local/lib/python3.7/dist-packages (from pyngrok) (3.13)\n"
          ]
        }
      ],
      "source": [
        "!pip install pyngrok"
      ]
    },
    {
      "cell_type": "code",
      "execution_count": null,
      "metadata": {
        "colab": {
          "base_uri": "https://localhost:8080/"
        },
        "id": "B-KnavBl6nVp",
        "outputId": "6285daab-9636-4976-f22d-239b1677f07f"
      },
      "outputs": [
        {
          "name": "stdout",
          "output_type": "stream",
          "text": [
            "Authtoken saved to configuration file: /root/.ngrok2/ngrok.yml\n"
          ]
        }
      ],
      "source": [
        "!ngrok authtoken 2CebPKTfQzem3M2a2RRLmeYtmat_5JzFSFD2RpqB3WbcGCAzJ"
      ]
    },
    {
      "cell_type": "code",
      "execution_count": null,
      "metadata": {
        "colab": {
          "background_save": true,
          "base_uri": "https://localhost:8080/"
        },
        "id": "Plwr9gdM6qLO",
        "outputId": "0f1bf457-e65a-449b-f013-3f34a2337acd"
      },
      "outputs": [
        {
          "name": "stdout",
          "output_type": "stream",
          "text": [
            " * Serving Flask app \"__main__\" (lazy loading)\n",
            " * Environment: production\n",
            "\u001b[31m   WARNING: This is a development server. Do not use it in a production deployment.\u001b[0m\n",
            "\u001b[2m   Use a production WSGI server instead.\u001b[0m\n",
            " * Debug mode: off\n"
          ]
        },
        {
          "name": "stderr",
          "output_type": "stream",
          "text": [
            " * Running on http://127.0.0.1:5000/ (Press CTRL+C to quit)\n"
          ]
        },
        {
          "name": "stdout",
          "output_type": "stream",
          "text": [
            " * Running on http://009a-35-237-181-23.ngrok.io\n",
            " * Traffic stats available on http://127.0.0.1:4040\n"
          ]
        },
        {
          "name": "stderr",
          "output_type": "stream",
          "text": [
            "127.0.0.1 - - [30/Jul/2022 15:42:02] \"\u001b[37mGET / HTTP/1.1\u001b[0m\" 200 -\n",
            "127.0.0.1 - - [30/Jul/2022 15:42:03] \"\u001b[33mGET /favicon.ico HTTP/1.1\u001b[0m\" 404 -\n"
          ]
        }
      ],
      "source": [
        "import numpy as np\n",
        "from flask import Flask, request, jsonify, render_template\n",
        "from flask_ngrok import run_with_ngrok\n",
        "import pickle\n",
        "\n",
        "\n",
        "app = Flask(__name__)\n",
        "model = pickle.load(open('/content/drive/My Drive/linearregressionm.pkl','rb'))\n",
        "run_with_ngrok(app)\n",
        "\n",
        "@app.route('/')\n",
        "def home():\n",
        "\n",
        "    return render_template(\"index.html\")\n",
        "\n",
        "@app.route('/predict',methods=['GET'])\n",
        "def predict():\n",
        "\n",
        "\n",
        "    '''\n",
        "    For rendering results on HTML GUI\n",
        "    '''\n",
        "\n",
        "    r1 = float(request.args.get('SqFt'))\n",
        "    r2 = float(request.args.get('bedrooms'))\n",
        "    r3 = float(request.args.get('Bathrooms'))\n",
        "    r4 = float(request.args.get('Offers'))\n",
        "    r5 = float(request.args.get('bricks'))\n",
        "    r6 = float(request.args.get('Neighborhood'))\n",
        "\n",
        "    result=np.array([r1,r2,r3,r4,r5,r6]).reshape(1,-1)\n",
        "    prediction = model.predict(result)\n",
        "\n",
        "\n",
        "\n",
        "    return render_template('index.html', prediction_text='Regression Model  has predicted Price for given requirements is : {}'.format(prediction))\n",
        "\n",
        "\n",
        "app.run()"
      ]
    },
    {
      "cell_type": "code",
      "execution_count": null,
      "metadata": {
        "id": "wT3tSttA6u5Z"
      },
      "outputs": [],
      "source": []
    }
  ],
  "metadata": {
    "colab": {
      "provenance": []
    },
    "kernelspec": {
      "display_name": "Python 3",
      "name": "python3"
    },
    "language_info": {
      "name": "python"
    }
  },
  "nbformat": 4,
  "nbformat_minor": 0
}